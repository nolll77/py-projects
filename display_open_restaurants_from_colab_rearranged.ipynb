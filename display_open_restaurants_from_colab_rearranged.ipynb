{
  "cells": [
    {
      "cell_type": "code",
      "execution_count": null,
      "metadata": {
        "id": "KxJH0tF-PBYC"
      },
      "outputs": [],
      "source": [
        "import requests\n",
        "import json\n",
        "import pandas as pd\n",
        "\n",
        "url = \"https://uk.api.just-eat.io/restaurants/bypostcode/E1 7EA\"\n",
        "headers = {\n",
        "    'User-Agent': 'Mozilla/5.0 (Macintosh; Intel Mac OS X 10_15_7) AppleWebKit/537.36 (KHTML, like Gecko) Chrome/120.0.0.0 Safari/537.36',\n",
        "    'referer': 'https://fonts.googleapis.com/'\n",
        "}\n",
        "result = requests.get(url, headers=headers)\n",
        "json_dict = json.loads(result.content.decode()) # method that parses a Json string and converts in a dict"
      ]
    },
    {
      "cell_type": "code",
      "execution_count": null,
      "metadata": {},
      "outputs": [],
      "source": [
        "# In json_dict, the main key is 'Restaurants' which contains lots of sub-dictionaries.\n",
        "# The restaurant_key variable is a list pointing to the 'Restaurants' specific main key.\n",
        "# This list will be used in different functions to sort out the Names, Ratings and Type of food for every opened restaurants.\n",
        "restaurant_key = json_dict['Restaurants']"
      ]
    },
    {
      "cell_type": "code",
      "execution_count": null,
      "metadata": {
        "id": "7zYZ6s3xPD9F"
      },
      "outputs": [],
      "source": [
        "def type_of_cuisine(list):\n",
        "    \"\"\"type_of_cuisine first filters restaurants that are opened for delivery - and then returns the\n",
        "       type of food they serve.\n",
        "\n",
        "    Args:\n",
        "        The variable restaurant_key (Type: list) representing the variable json_dictionary (dict)\n",
        "        that contains descriptive categorized informations (ie: Name, Address, CuisineTypes, etc)\n",
        "        which are the keys of the dictionaries.\n",
        "\n",
        "    Returns:\n",
        "        A list of inner little lists, in which we have dictionaries where the values of those are the types of food. \n",
        "    \"\"\"\n",
        "\n",
        "    open_for_delivery = []\n",
        "    \n",
        "    for i in list:\n",
        "        if i['IsOpenNowForDelivery'] == True:\n",
        "            open_for_delivery.append(i['Cuisines'])\n",
        "\n",
        "    return open_for_delivery"
      ]
    },
    {
      "cell_type": "code",
      "execution_count": null,
      "metadata": {
        "colab": {
          "base_uri": "https://localhost:8080/"
        },
        "id": "T0pMNvjwPIYT",
        "outputId": "a7ad5aa7-f03f-435f-da8c-444c3d0bd05e"
      },
      "outputs": [],
      "source": [
        "# type_cuisine is a list of inner lists which each ones contain a dictionary\n",
        "type_cuisine = type_of_cuisine(restaurant_key)"
      ]
    },
    {
      "cell_type": "code",
      "execution_count": null,
      "metadata": {
        "id": "ug9YkZW8PKDi"
      },
      "outputs": [],
      "source": [
        "# transform type_cuisine which is a list into a dataframe\n",
        "df_type_of_cuisine = pd.DataFrame(type_cuisine)"
      ]
    },
    {
      "cell_type": "code",
      "execution_count": null,
      "metadata": {},
      "outputs": [],
      "source": [
        "def find_number_of_columns(datafr, list):\n",
        "    \"\"\"Because the original extracted JSON string can have a different number of columns each time we execute this Python code, we have to\n",
        "       know this specific number of columns. Once we know it, we hard-code the names of the columns for the passed dataframe, regarding\n",
        "       in the meantime the specific number of columns. \n",
        "\n",
        "    Args:\n",
        "        datafr (a dataframe): df_type_of_cuisine is a dataframe in which each column represents the end-dictionary founded in type_cuisine\n",
        "        list (a list): type_cuisine is a list of inner lists, each inner list contains a dictionary\n",
        "\n",
        "    Returns:\n",
        "        A dataframe: It's the same dataframe that has been passed in argument - this returned one has brand clean named columns\n",
        "    \"\"\"\n",
        "\n",
        "    shape_type_of_cuisine = df_type_of_cuisine.shape[1]\n",
        "    \n",
        "    for column in datafr:\n",
        "\n",
        "        if shape_type_of_cuisine == 1:\n",
        "            datafr = pd.DataFrame(list, columns =['col1'])\n",
        "\n",
        "        if shape_type_of_cuisine == 2:\n",
        "            datafr = pd.DataFrame(list, columns =['col1', 'col2'])\n",
        "\n",
        "        if shape_type_of_cuisine == 3:\n",
        "            datafr = pd.DataFrame(list, columns =['col1', 'col2', 'col3'])\n",
        "\n",
        "        if shape_type_of_cuisine == 4:\n",
        "            datafr = pd.DataFrame(list, columns =['col1', 'col2', 'col3', 'col4'])\n",
        "\n",
        "        if shape_type_of_cuisine == 5:\n",
        "            datafr = pd.DataFrame(list, columns =['col1', 'col2', 'col3', 'col4', 'col5'])\n",
        "\n",
        "        if shape_type_of_cuisine == 6:\n",
        "            datafr = pd.DataFrame(list, columns =['col1', 'col2', 'col3', 'col4', 'col5', 'col6'])\n",
        "\n",
        "        if shape_type_of_cuisine == 7: # I have seen more than 7 (i.e. 13) but code works idkw \n",
        "            datafr = pd.DataFrame(list, columns =['col1', 'col2', 'col3', 'col4', 'col5', 'col6', 'col7'])\n",
        "\n",
        "    return datafr\n"
      ]
    },
    {
      "cell_type": "code",
      "execution_count": null,
      "metadata": {
        "id": "HWr9pTtSPSfm"
      },
      "outputs": [],
      "source": [
        "# Assign a df_type_of_cuisine_numbered variable\n",
        "df_type_of_cuisine_numbered = find_number_of_columns(df_type_of_cuisine, type_cuisine)"
      ]
    },
    {
      "cell_type": "code",
      "execution_count": null,
      "metadata": {
        "id": "c8ImMeOUPScu"
      },
      "outputs": [],
      "source": [
        "# https://stackoverflow.com/a/55279799\n",
        "# Flatten the dataframe in order to have consistent columns names\n",
        "json_struct = json.loads(df_type_of_cuisine_numbered.to_json(orient=\"records\"))\n",
        "df_flat = pd.json_normalize(json_struct)"
      ]
    },
    {
      "cell_type": "code",
      "execution_count": null,
      "metadata": {
        "id": "5UO_4XBHPWJD"
      },
      "outputs": [],
      "source": [
        "list_type_of_cuisine_consistent_names_sorted = sorted(df_flat.columns.values)"
      ]
    },
    {
      "cell_type": "code",
      "execution_count": null,
      "metadata": {
        "id": "Po6rZtMNPWGc"
      },
      "outputs": [],
      "source": [
        "def keep_2firts_consistent_names(list):\n",
        "    \"\"\"To remove all type-of-cuisine columns names that won't be used when executing the code.\n",
        "       Because those removed ones are not useful, ie wording has only lower characters or are not well written\n",
        "       with dash symbols separating the words.\n",
        "       Purpose is to hold the cleaned and proper type-of-cuisine names.\n",
        "\n",
        "    Args:\n",
        "        list (Type: list): list_type_of_cuisine_consistent_names_sorted is a list with the type-of-cuisine\n",
        "        that a restaurant proposes. The list has sorted consistent names.\n",
        "\n",
        "    Returns:\n",
        "        A list: that keeps only the first consistent name and the one called col2.Name\n",
        "    \"\"\"\n",
        "    list_to_keep_2firts_consistent_names =[]\n",
        "\n",
        "    list_to_keep_2firts_consistent_names.append(list[0])\n",
        "\n",
        "    for i in list:\n",
        "        if i == \"col2.Name\":\n",
        "            list_to_keep_2firts_consistent_names.append(i)\n",
        "            \n",
        "    return list_to_keep_2firts_consistent_names"
      ]
    },
    {
      "cell_type": "code",
      "execution_count": null,
      "metadata": {
        "id": "7fBlxRIyPaqF"
      },
      "outputs": [],
      "source": [
        "list_keep_2first = keep_2firts_consistent_names(list_type_of_cuisine_consistent_names_sorted)"
      ]
    },
    {
      "cell_type": "code",
      "execution_count": null,
      "metadata": {
        "id": "C08k2o-mPWDh"
      },
      "outputs": [],
      "source": [
        "# Use a list comprehension in order to keep only the 2 columns in list_keep_2first and remove all others\n",
        "cols_to_drop = [i for i in list_type_of_cuisine_consistent_names_sorted if i not in list_keep_2first]"
      ]
    },
    {
      "cell_type": "code",
      "execution_count": null,
      "metadata": {
        "id": "sKGy7aFBPg4A"
      },
      "outputs": [],
      "source": [
        "# Finally we got our 2 deisired food information for each restaurant!!! \n",
        "df_type_of_cuisine_numbered = df_flat.drop(\n",
        "    cols_to_drop,\n",
        "    axis=1\n",
        ")"
      ]
    },
    {
      "cell_type": "code",
      "execution_count": null,
      "metadata": {
        "id": "cjr8Dt9mPg1X"
      },
      "outputs": [],
      "source": [
        "def restaurants_names(list):\n",
        "    \"\"\"restaurants_names() gets back all the names of restaurants who are open-for-delivery\n",
        "       when executing the code.\n",
        "\n",
        "    Args:\n",
        "        The variable restaurant_key (Type: list) representing the origin variable json_dictionary (dict)\n",
        "        that contains descriptive categorized informations (ie: Name, Address, CuisineTypes, etc)\n",
        "        which are the keys of the dictionaries.\n",
        "\n",
        "    Returns:\n",
        "        A list: that contains all restaurants names.\n",
        "    \"\"\"\n",
        "    list_restaurants_names = []\n",
        "    \n",
        "    for i in list:\n",
        "\n",
        "        if i['IsOpenNowForDelivery'] == True:\n",
        "\n",
        "            list_restaurants_names.append(f\"{i['Name']}\")\n",
        "\n",
        "    return list_restaurants_names"
      ]
    },
    {
      "cell_type": "code",
      "execution_count": null,
      "metadata": {
        "colab": {
          "base_uri": "https://localhost:8080/"
        },
        "id": "0zAIZplEPgzB",
        "outputId": "1377caba-87b2-41e0-e8fe-2c873e8ad631"
      },
      "outputs": [],
      "source": [
        "# Assign the returned list of restaurants to a variable\n",
        "list_of_restaurants_names = restaurants_names(restaurant_key)"
      ]
    },
    {
      "cell_type": "code",
      "execution_count": null,
      "metadata": {
        "id": "6z1eXjhjPl-K"
      },
      "outputs": [],
      "source": [
        "# Transform list_of_restaurants_names into a dataframe\n",
        "df_restaurants_names = pd.DataFrame(list_of_restaurants_names)"
      ]
    },
    {
      "cell_type": "code",
      "execution_count": null,
      "metadata": {
        "id": "mfKMMiYDPl7l"
      },
      "outputs": [],
      "source": [
        "def rating_stars(list):\n",
        "    \"\"\"rating_stars() gets back all the average notes of restaurants who are open-for-delivery\n",
        "       when executing the code.\n",
        "\n",
        "    Args:\n",
        "        The variable restaurant_key (Type: list) representing the origin variable json_dictionary (dict)\n",
        "        that contains descriptive categorized informations (ie: Name, Address, CuisineTypes, etc)\n",
        "        which are the keys of the dictionaries.\n",
        "\n",
        "    Returns:\n",
        "        A list: that contains all the average notes.\n",
        "    \"\"\"\n",
        "    average_note = []\n",
        "\n",
        "    for i in list:\n",
        "        if i['IsOpenNowForDelivery'] == True:\n",
        "            average_note.append(f\"{i['RatingStars']}\")\n",
        "\n",
        "    return average_note"
      ]
    },
    {
      "cell_type": "code",
      "execution_count": null,
      "metadata": {
        "colab": {
          "base_uri": "https://localhost:8080/"
        },
        "id": "GNzdt9RBPl45",
        "outputId": "c6ee8c9e-f918-48ea-bc49-9963f01e60fa"
      },
      "outputs": [],
      "source": [
        "# Assign the returned average notes to a variable\n",
        "rating = rating_stars(restaurant_key)"
      ]
    },
    {
      "cell_type": "code",
      "execution_count": null,
      "metadata": {
        "id": "xfp757wxPr89"
      },
      "outputs": [],
      "source": [
        "# Transform the variable rating into a dataframe\n",
        "df_rating = pd.DataFrame(rating)"
      ]
    },
    {
      "cell_type": "code",
      "execution_count": null,
      "metadata": {
        "id": "zS6q1xm-Pr6Y"
      },
      "outputs": [],
      "source": [
        "# Rename the 3 final dataframes with user-friendly names:\n",
        "# \"Restaurant name\", \"Stars av.\", \"Spéciality 1\", \"Spéciality 2 (or Country)\"\n",
        "# If we don't rename properly, the concatenation won't give a good result because of same name for 2 dataframes.\n",
        "\n",
        "df_restaurants_names = df_restaurants_names.rename(columns = {0:'Restaurant name'})\n",
        "df_rating = df_rating.rename(columns = {0:'Stars av.'})\n",
        "df_type_of_cuisine_numbered = df_type_of_cuisine_numbered.rename(columns = {\"col1.Name\":'Spéciality 1', \"col2.Name\":'Spéciality 2 (or Country)'})"
      ]
    },
    {
      "cell_type": "code",
      "execution_count": null,
      "metadata": {
        "id": "DTK_cBzdPr3t"
      },
      "outputs": [],
      "source": [
        "# Concatenate the 3 dataframes\n",
        "frames = [df_restaurants_names, df_rating, df_type_of_cuisine_numbered]\n",
        "result = pd.concat(frames, axis=1)"
      ]
    },
    {
      "cell_type": "code",
      "execution_count": null,
      "metadata": {
        "colab": {
          "base_uri": "https://localhost:8080/",
          "height": 1000
        },
        "id": "1izllKAoPwqs",
        "outputId": "b90ad448-a67f-47c8-cb46-b59d123e2fd2"
      },
      "outputs": [],
      "source": [
        "pd.set_option('display.max_rows', 5000)\n",
        "print(f\"Hi! We have currently {len(df_restaurants_names.index)} restaurants/groceries opened.\")\n",
        "print(\"They can't wait to deliver your order at your home or office!!!\")\n",
        "result"
      ]
    }
  ],
  "metadata": {
    "colab": {
      "provenance": []
    },
    "kernelspec": {
      "display_name": "Python 3",
      "name": "python3"
    },
    "language_info": {
      "codemirror_mode": {
        "name": "ipython",
        "version": 3
      },
      "file_extension": ".py",
      "mimetype": "text/x-python",
      "name": "python",
      "nbconvert_exporter": "python",
      "pygments_lexer": "ipython3",
      "version": "3.9.12"
    }
  },
  "nbformat": 4,
  "nbformat_minor": 0
}
