{
 "cells": [
  {
   "cell_type": "code",
   "execution_count": 1,
   "metadata": {},
   "outputs": [],
   "source": [
    "# disable Zscaler's antivirus if having 401 SSLError\n",
    "\n",
    "# postcode test E1 7EA and w1b2el and EH25 9AD (Edimburg)\n",
    "\n",
    "import requests\n",
    "import json\n",
    "import pandas as pd\n",
    "\n",
    "url = \"https://uk.api.just-eat.io/restaurants/bypostcode/BH14 9NR\"\n",
    "headers = {\n",
    "    'User-Agent': 'Mozilla/5.0 (Macintosh; Intel Mac OS X 10_15_7) AppleWebKit/537.36 (KHTML, like Gecko) Chrome/120.0.0.0 Safari/537.36',\n",
    "    'referer': 'https://fonts.googleapis.com/'\n",
    "}\n",
    "result = requests.get(url, headers=headers)\n",
    "y = json.loads(result.content.decode())"
   ]
  },
  {
   "cell_type": "code",
   "execution_count": 2,
   "metadata": {},
   "outputs": [],
   "source": [
    "def return_Cuisine(list1):\n",
    "\n",
    "    c = []\n",
    "    b = 0\n",
    "    for i in list1:\n",
    "        \n",
    "        if i['IsOpenNowForDelivery'] == True:\n",
    "            b+=1\n",
    "            \n",
    "            c.append(i['Cuisines'])\n",
    "\n",
    "    print(b)\n",
    "    return c"
   ]
  },
  {
   "cell_type": "code",
   "execution_count": 3,
   "metadata": {},
   "outputs": [],
   "source": [
    "restaurant_key = y['Restaurants']"
   ]
  },
  {
   "cell_type": "code",
   "execution_count": 4,
   "metadata": {},
   "outputs": [
    {
     "name": "stdout",
     "output_type": "stream",
     "text": [
      "17\n"
     ]
    }
   ],
   "source": [
    "a = return_Cuisine(restaurant_key)"
   ]
  },
  {
   "cell_type": "code",
   "execution_count": 5,
   "metadata": {},
   "outputs": [],
   "source": [
    "df = pd.DataFrame(a) # transform Cuisines to df"
   ]
  },
  {
   "cell_type": "code",
   "execution_count": 6,
   "metadata": {},
   "outputs": [
    {
     "data": {
      "text/plain": [
       "3"
      ]
     },
     "execution_count": 6,
     "metadata": {},
     "output_type": "execute_result"
    }
   ],
   "source": [
    "df.shape[1]"
   ]
  },
  {
   "cell_type": "code",
   "execution_count": 7,
   "metadata": {},
   "outputs": [],
   "source": [
    "def find_number_of_columns(z, list):\n",
    "    #x = 0\n",
    "    y = df.shape[1]\n",
    "    for column in z:\n",
    "        #x += 1\n",
    "        \n",
    "        if y == 1:\n",
    "            z = pd.DataFrame(list, columns =['col1'])\n",
    "            \n",
    "        if y == 2:\n",
    "            z = pd.DataFrame(list, columns =['col1', 'col2'])\n",
    "            \n",
    "        if y == 3:\n",
    "            z = pd.DataFrame(list, columns =['col1', 'col2', 'col3'])\n",
    "        \n",
    "        if y == 4:\n",
    "            z = pd.DataFrame(list, columns =['col1', 'col2', 'col3', 'col4'])\n",
    "        \n",
    "        if y == 5:\n",
    "            z = pd.DataFrame(list, columns =['col1', 'col2', 'col3', 'col4', 'col5'])\n",
    "            \n",
    "        if y == 6:\n",
    "            z = pd.DataFrame(list, columns =['col1', 'col2', 'col3', 'col4', 'col5', 'col6'])\n",
    "            \n",
    "        if y == 7:\n",
    "            z = pd.DataFrame(list, columns =['col1', 'col2', 'col3', 'col4', 'col5', 'col6', 'col7'])\n",
    "    \n",
    "    return z\n",
    "            \n"
   ]
  },
  {
   "cell_type": "code",
   "execution_count": 8,
   "metadata": {},
   "outputs": [],
   "source": [
    "df5 = find_number_of_columns(df, a)"
   ]
  },
  {
   "cell_type": "code",
   "execution_count": 9,
   "metadata": {},
   "outputs": [],
   "source": [
    "json_struct = json.loads(df5.to_json(orient=\"records\"))    \n",
    "df_flat = pd.json_normalize(json_struct)"
   ]
  },
  {
   "cell_type": "code",
   "execution_count": 10,
   "metadata": {},
   "outputs": [
    {
     "name": "stdout",
     "output_type": "stream",
     "text": [
      "['col1.Name', 'col1.SeoName', 'col2.Name', 'col2.SeoName', 'col3', 'col3.Name', 'col3.SeoName']\n",
      "\n",
      "df has 7 columns\n"
     ]
    }
   ],
   "source": [
    "print(sorted(df_flat.columns.values)) # keeping to check columns names\n",
    "print()\n",
    "print(f\"df has {df_flat.shape[1]} columns\")"
   ]
  },
  {
   "cell_type": "code",
   "execution_count": 11,
   "metadata": {},
   "outputs": [],
   "source": [
    "all_cols_sorted = sorted(df_flat.columns.values)"
   ]
  },
  {
   "cell_type": "code",
   "execution_count": 12,
   "metadata": {},
   "outputs": [
    {
     "data": {
      "text/plain": [
       "['col1.Name',\n",
       " 'col1.SeoName',\n",
       " 'col2.Name',\n",
       " 'col2.SeoName',\n",
       " 'col3',\n",
       " 'col3.Name',\n",
       " 'col3.SeoName']"
      ]
     },
     "execution_count": 12,
     "metadata": {},
     "output_type": "execute_result"
    }
   ],
   "source": [
    "all_cols_sorted"
   ]
  },
  {
   "cell_type": "code",
   "execution_count": 13,
   "metadata": {},
   "outputs": [],
   "source": [
    "def add_list(liost): \n",
    "    df_sorted_keep_2 =[]\n",
    "    \n",
    "    df_sorted_keep_2.append(liost[0])\n",
    "    \n",
    "    for i in liost:\n",
    "        if i == \"col2.Name\":\n",
    "            df_sorted_keep_2.append(i)\n",
    "    return df_sorted_keep_2 "
   ]
  },
  {
   "cell_type": "code",
   "execution_count": 14,
   "metadata": {},
   "outputs": [],
   "source": [
    "df_sorted_keep_2first = add_list(all_cols_sorted)"
   ]
  },
  {
   "cell_type": "code",
   "execution_count": 15,
   "metadata": {},
   "outputs": [],
   "source": [
    "# faire fonction pour garder seulement les colonnes dans df_sorted_keep_2first et virer toutes les autres\n",
    "cols_to_drop = [i for i in all_cols_sorted if i not in df_sorted_keep_2first]"
   ]
  },
  {
   "cell_type": "code",
   "execution_count": 16,
   "metadata": {},
   "outputs": [],
   "source": [
    "df5 =df_flat.drop(cols_to_drop,\n",
    "                    axis=1\n",
    "                    )"
   ]
  },
  {
   "cell_type": "code",
   "execution_count": 17,
   "metadata": {},
   "outputs": [],
   "source": [
    "def return_IsDelivering_RS(list1):\n",
    "    a = []\n",
    "    b = 0\n",
    "    for i in list1:\n",
    "        \n",
    "        if i['IsOpenNowForDelivery'] == True:\n",
    "            b+=1\n",
    "            a.append(f\"{i['Name']}\")\n",
    "            #b+=1\n",
    "    print(b)\n",
    "    return a"
   ]
  },
  {
   "cell_type": "code",
   "execution_count": 18,
   "metadata": {},
   "outputs": [
    {
     "name": "stdout",
     "output_type": "stream",
     "text": [
      "17\n"
     ]
    }
   ],
   "source": [
    "s = return_IsDelivering_RS(restaurant_key)"
   ]
  },
  {
   "cell_type": "code",
   "execution_count": 19,
   "metadata": {},
   "outputs": [],
   "source": [
    "dfs = pd.DataFrame(s) # transform resto_name to df"
   ]
  },
  {
   "cell_type": "code",
   "execution_count": 20,
   "metadata": {},
   "outputs": [],
   "source": [
    "# Rating Stars\n",
    "\n",
    "def return_RS(list1):\n",
    "    a = []\n",
    "    b = 0\n",
    "    for i in list1:\n",
    "        \n",
    "        if i['IsOpenNowForDelivery'] == True:\n",
    "            b+=1\n",
    "            a.append(f\"{i['RatingStars']}\")\n",
    "            #b+=1\n",
    "    print(b)\n",
    "    return a"
   ]
  },
  {
   "cell_type": "code",
   "execution_count": 21,
   "metadata": {},
   "outputs": [
    {
     "name": "stdout",
     "output_type": "stream",
     "text": [
      "17\n"
     ]
    }
   ],
   "source": [
    "rating = return_RS(restaurant_key)"
   ]
  },
  {
   "cell_type": "code",
   "execution_count": 22,
   "metadata": {},
   "outputs": [],
   "source": [
    "df_rating = pd.DataFrame(rating) # transform rating stars into df"
   ]
  },
  {
   "cell_type": "code",
   "execution_count": 23,
   "metadata": {},
   "outputs": [],
   "source": [
    "dfs = dfs.rename(columns = {0:'Restaurant name'})\n",
    "df_rating = df_rating.rename(columns = {0:'Stars av.'})\n",
    "df5 = df5.rename(columns = {\"col1.Name\":'Spéciality 1', \"col2.Name\":'Spéciality 2 (or Country)'})"
   ]
  },
  {
   "cell_type": "code",
   "execution_count": 24,
   "metadata": {},
   "outputs": [],
   "source": [
    "frames = [dfs, df_rating, df5]\n",
    "result = pd.concat(frames, axis=1)"
   ]
  },
  {
   "cell_type": "code",
   "execution_count": 25,
   "metadata": {},
   "outputs": [
    {
     "name": "stdout",
     "output_type": "stream",
     "text": [
      "Hi! We have currently 17 restaurants/groceries opened.\n",
      "They can't wait to deliver your order at your home or office!!!\n"
     ]
    },
    {
     "data": {
      "text/html": [
       "<div>\n",
       "<style scoped>\n",
       "    .dataframe tbody tr th:only-of-type {\n",
       "        vertical-align: middle;\n",
       "    }\n",
       "\n",
       "    .dataframe tbody tr th {\n",
       "        vertical-align: top;\n",
       "    }\n",
       "\n",
       "    .dataframe thead th {\n",
       "        text-align: right;\n",
       "    }\n",
       "</style>\n",
       "<table border=\"1\" class=\"dataframe\">\n",
       "  <thead>\n",
       "    <tr style=\"text-align: right;\">\n",
       "      <th></th>\n",
       "      <th>Restaurant name</th>\n",
       "      <th>Stars av.</th>\n",
       "      <th>Spéciality 1</th>\n",
       "      <th>Spéciality 2 (or Country)</th>\n",
       "    </tr>\n",
       "  </thead>\n",
       "  <tbody>\n",
       "    <tr>\n",
       "      <th>0</th>\n",
       "      <td>Fireaway Pizza - Bournemouth</td>\n",
       "      <td>3.84</td>\n",
       "      <td>Pizza</td>\n",
       "      <td>Italian</td>\n",
       "    </tr>\n",
       "    <tr>\n",
       "      <th>1</th>\n",
       "      <td>Bistro Pizza 2 for 1</td>\n",
       "      <td>4.32</td>\n",
       "      <td>Pizza</td>\n",
       "      <td>Kebab</td>\n",
       "    </tr>\n",
       "    <tr>\n",
       "      <th>2</th>\n",
       "      <td>New Capital Pizza &amp; Kebab</td>\n",
       "      <td>4.2</td>\n",
       "      <td>Pizza</td>\n",
       "      <td>Kebab</td>\n",
       "    </tr>\n",
       "    <tr>\n",
       "      <th>3</th>\n",
       "      <td>Bistro Chicken</td>\n",
       "      <td>4.92</td>\n",
       "      <td>Chicken</td>\n",
       "      <td>Burgers</td>\n",
       "    </tr>\n",
       "    <tr>\n",
       "      <th>4</th>\n",
       "      <td>Southern Fried Chicken</td>\n",
       "      <td>5.52</td>\n",
       "      <td>Chicken</td>\n",
       "      <td>Pizza</td>\n",
       "    </tr>\n",
       "    <tr>\n",
       "      <th>5</th>\n",
       "      <td>Chicken Cottage - Bournemouth</td>\n",
       "      <td>3.84</td>\n",
       "      <td>Chicken</td>\n",
       "      <td>Peri Peri</td>\n",
       "    </tr>\n",
       "    <tr>\n",
       "      <th>6</th>\n",
       "      <td>Chunkzz Fried Chicken &amp; Pizza (Parkstone)</td>\n",
       "      <td>3.96</td>\n",
       "      <td>Chicken</td>\n",
       "      <td>Pizza</td>\n",
       "    </tr>\n",
       "    <tr>\n",
       "      <th>7</th>\n",
       "      <td>Chunkzz Smokey Burgers (Parkstone)</td>\n",
       "      <td>4.2</td>\n",
       "      <td>Burgers</td>\n",
       "      <td>Chicken</td>\n",
       "    </tr>\n",
       "    <tr>\n",
       "      <th>8</th>\n",
       "      <td>Mega Kebab And Pizza</td>\n",
       "      <td>3.36</td>\n",
       "      <td>Pizza</td>\n",
       "      <td>Kebab</td>\n",
       "    </tr>\n",
       "    <tr>\n",
       "      <th>9</th>\n",
       "      <td>Chunkzz Fried Chicken &amp; Pizza</td>\n",
       "      <td>3.96</td>\n",
       "      <td>Chicken</td>\n",
       "      <td>Pizza</td>\n",
       "    </tr>\n",
       "    <tr>\n",
       "      <th>10</th>\n",
       "      <td>Chunkzz Smokey Burgers</td>\n",
       "      <td>4.08</td>\n",
       "      <td>Peri Peri</td>\n",
       "      <td>Burgers</td>\n",
       "    </tr>\n",
       "    <tr>\n",
       "      <th>11</th>\n",
       "      <td>Mondo</td>\n",
       "      <td>1.2</td>\n",
       "      <td>Burgers</td>\n",
       "      <td>Pizza</td>\n",
       "    </tr>\n",
       "    <tr>\n",
       "      <th>12</th>\n",
       "      <td>SIP UP @ Appleberry Foods - Bournemouth</td>\n",
       "      <td>2.04</td>\n",
       "      <td>Groceries</td>\n",
       "      <td>Alcohol</td>\n",
       "    </tr>\n",
       "    <tr>\n",
       "      <th>13</th>\n",
       "      <td>Papa Johns - Bournemouth - Holdenhurst Road</td>\n",
       "      <td>4.2</td>\n",
       "      <td>Pizza</td>\n",
       "      <td>American</td>\n",
       "    </tr>\n",
       "    <tr>\n",
       "      <th>14</th>\n",
       "      <td>NXT LVL Chicken &amp; Cookies - Bournemouth</td>\n",
       "      <td>3.12</td>\n",
       "      <td>Chicken</td>\n",
       "      <td>Desserts</td>\n",
       "    </tr>\n",
       "    <tr>\n",
       "      <th>15</th>\n",
       "      <td>TASTY Shawarma Kebab</td>\n",
       "      <td>2.4</td>\n",
       "      <td>Kebab</td>\n",
       "      <td>Chicken</td>\n",
       "    </tr>\n",
       "    <tr>\n",
       "      <th>16</th>\n",
       "      <td>Sol  Eat</td>\n",
       "      <td>4.32</td>\n",
       "      <td>Pizza</td>\n",
       "      <td>Burgers</td>\n",
       "    </tr>\n",
       "  </tbody>\n",
       "</table>\n",
       "</div>"
      ],
      "text/plain": [
       "                                Restaurant name Stars av. Spéciality 1  \\\n",
       "0                  Fireaway Pizza - Bournemouth      3.84        Pizza   \n",
       "1                          Bistro Pizza 2 for 1      4.32        Pizza   \n",
       "2                     New Capital Pizza & Kebab       4.2        Pizza   \n",
       "3                                Bistro Chicken      4.92      Chicken   \n",
       "4                        Southern Fried Chicken      5.52      Chicken   \n",
       "5                 Chicken Cottage - Bournemouth      3.84      Chicken   \n",
       "6     Chunkzz Fried Chicken & Pizza (Parkstone)      3.96      Chicken   \n",
       "7            Chunkzz Smokey Burgers (Parkstone)       4.2      Burgers   \n",
       "8                          Mega Kebab And Pizza      3.36        Pizza   \n",
       "9                 Chunkzz Fried Chicken & Pizza      3.96      Chicken   \n",
       "10                       Chunkzz Smokey Burgers      4.08    Peri Peri   \n",
       "11                                        Mondo       1.2      Burgers   \n",
       "12      SIP UP @ Appleberry Foods - Bournemouth      2.04    Groceries   \n",
       "13  Papa Johns - Bournemouth - Holdenhurst Road       4.2        Pizza   \n",
       "14      NXT LVL Chicken & Cookies - Bournemouth      3.12      Chicken   \n",
       "15                         TASTY Shawarma Kebab       2.4        Kebab   \n",
       "16                                     Sol  Eat      4.32        Pizza   \n",
       "\n",
       "   Spéciality 2 (or Country)  \n",
       "0                    Italian  \n",
       "1                      Kebab  \n",
       "2                      Kebab  \n",
       "3                    Burgers  \n",
       "4                      Pizza  \n",
       "5                  Peri Peri  \n",
       "6                      Pizza  \n",
       "7                    Chicken  \n",
       "8                      Kebab  \n",
       "9                      Pizza  \n",
       "10                   Burgers  \n",
       "11                     Pizza  \n",
       "12                   Alcohol  \n",
       "13                  American  \n",
       "14                  Desserts  \n",
       "15                   Chicken  \n",
       "16                   Burgers  "
      ]
     },
     "execution_count": 25,
     "metadata": {},
     "output_type": "execute_result"
    }
   ],
   "source": [
    "pd.set_option('display.max_rows', 5000)\n",
    "print(f\"Hi! We have currently {len(dfs.index)} restaurants/groceries opened.\")\n",
    "print(\"They can't wait to deliver your order at your home or office!!!\")\n",
    "result\n"
   ]
  }
 ],
 "metadata": {
  "kernelspec": {
   "display_name": "base",
   "language": "python",
   "name": "python3"
  },
  "language_info": {
   "codemirror_mode": {
    "name": "ipython",
    "version": 3
   },
   "file_extension": ".py",
   "mimetype": "text/x-python",
   "name": "python",
   "nbconvert_exporter": "python",
   "pygments_lexer": "ipython3",
   "version": "3.9.12"
  }
 },
 "nbformat": 4,
 "nbformat_minor": 2
}
