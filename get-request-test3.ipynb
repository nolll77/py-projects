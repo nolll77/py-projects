{
 "cells": [
  {
   "cell_type": "code",
   "execution_count": 1,
   "metadata": {},
   "outputs": [],
   "source": [
    "# disable Zscaler's antivirus if having 401 SSLError\n",
    "\n",
    "# postcode test E1 7EA and w1b2el and EH25 9AD (Edimburg)\n",
    "\n",
    "import requests\n",
    "import json\n",
    "import pandas as pd\n",
    "\n",
    "url = \"https://uk.api.just-eat.io/restaurants/bypostcode/M24 2HT\"\n",
    "headers = {\n",
    "    'User-Agent': 'Mozilla/5.0 (Macintosh; Intel Mac OS X 10_15_7) AppleWebKit/537.36 (KHTML, like Gecko) Chrome/120.0.0.0 Safari/537.36',\n",
    "    'referer': 'https://fonts.googleapis.com/'\n",
    "}\n",
    "result = requests.get(url, headers=headers)\n",
    "y = json.loads(result.content.decode())"
   ]
  },
  {
   "cell_type": "code",
   "execution_count": 2,
   "metadata": {},
   "outputs": [],
   "source": [
    "def return_Cuisine(list1):\n",
    "\n",
    "    c = []\n",
    "    b = 0\n",
    "    for i in list1:\n",
    "        \n",
    "        if i['IsOpenNowForDelivery'] == True:\n",
    "            b+=1\n",
    "            \n",
    "            c.append(i['Cuisines'])\n",
    "\n",
    "    print(b)\n",
    "    return c"
   ]
  },
  {
   "cell_type": "code",
   "execution_count": 3,
   "metadata": {},
   "outputs": [],
   "source": [
    "restaurant_key = y['Restaurants']"
   ]
  },
  {
   "cell_type": "code",
   "execution_count": 4,
   "metadata": {},
   "outputs": [
    {
     "name": "stdout",
     "output_type": "stream",
     "text": [
      "33\n"
     ]
    }
   ],
   "source": [
    "a = return_Cuisine(restaurant_key)"
   ]
  },
  {
   "cell_type": "code",
   "execution_count": 5,
   "metadata": {},
   "outputs": [],
   "source": [
    "df = pd.DataFrame(a) # transform Cuisines to df"
   ]
  },
  {
   "cell_type": "code",
   "execution_count": 6,
   "metadata": {},
   "outputs": [
    {
     "data": {
      "text/plain": [
       "4"
      ]
     },
     "execution_count": 6,
     "metadata": {},
     "output_type": "execute_result"
    }
   ],
   "source": [
    "df.shape[1]"
   ]
  },
  {
   "cell_type": "code",
   "execution_count": 7,
   "metadata": {},
   "outputs": [],
   "source": [
    "def find_number_of_columns(z, list):\n",
    "    #x = 0\n",
    "    y = df.shape[1]\n",
    "    for column in z:\n",
    "        #x += 1\n",
    "        \n",
    "        if y == 1:\n",
    "            z = pd.DataFrame(list, columns =['col1'])\n",
    "            \n",
    "        if y == 2:\n",
    "            z = pd.DataFrame(list, columns =['col1', 'col2'])\n",
    "            \n",
    "        if y == 3:\n",
    "            z = pd.DataFrame(list, columns =['col1', 'col2', 'col3'])\n",
    "        \n",
    "        if y == 4:\n",
    "            z = pd.DataFrame(list, columns =['col1', 'col2', 'col3', 'col4'])\n",
    "        \n",
    "        if y == 5:\n",
    "            z = pd.DataFrame(list, columns =['col1', 'col2', 'col3', 'col4', 'col5'])\n",
    "            \n",
    "        if y == 6:\n",
    "            z = pd.DataFrame(list, columns =['col1', 'col2', 'col3', 'col4', 'col5', 'col6'])\n",
    "            \n",
    "        if y == 7:\n",
    "            z = pd.DataFrame(list, columns =['col1', 'col2', 'col3', 'col4', 'col5', 'col6', 'col7'])\n",
    "    \n",
    "    return z\n",
    "            \n"
   ]
  },
  {
   "cell_type": "code",
   "execution_count": 8,
   "metadata": {},
   "outputs": [],
   "source": [
    "df5 = find_number_of_columns(df, a)"
   ]
  },
  {
   "cell_type": "code",
   "execution_count": 9,
   "metadata": {},
   "outputs": [],
   "source": [
    "json_struct = json.loads(df5.to_json(orient=\"records\"))    \n",
    "df_flat = pd.json_normalize(json_struct)"
   ]
  },
  {
   "cell_type": "code",
   "execution_count": 10,
   "metadata": {},
   "outputs": [
    {
     "name": "stdout",
     "output_type": "stream",
     "text": [
      "['col1.Name', 'col1.SeoName', 'col2', 'col2.Name', 'col2.SeoName', 'col3', 'col3.Name', 'col3.SeoName', 'col4', 'col4.Name', 'col4.SeoName']\n",
      "\n",
      "df has 11 columns\n"
     ]
    }
   ],
   "source": [
    "print(sorted(df_flat.columns.values)) # keeping to check columns names\n",
    "print()\n",
    "print(f\"df has {df_flat.shape[1]} columns\")"
   ]
  },
  {
   "cell_type": "code",
   "execution_count": 11,
   "metadata": {},
   "outputs": [],
   "source": [
    "all_cols_sorted = sorted(df_flat.columns.values)"
   ]
  },
  {
   "cell_type": "code",
   "execution_count": 12,
   "metadata": {},
   "outputs": [
    {
     "data": {
      "text/plain": [
       "['col1.Name',\n",
       " 'col1.SeoName',\n",
       " 'col2',\n",
       " 'col2.Name',\n",
       " 'col2.SeoName',\n",
       " 'col3',\n",
       " 'col3.Name',\n",
       " 'col3.SeoName',\n",
       " 'col4',\n",
       " 'col4.Name',\n",
       " 'col4.SeoName']"
      ]
     },
     "execution_count": 12,
     "metadata": {},
     "output_type": "execute_result"
    }
   ],
   "source": [
    "all_cols_sorted"
   ]
  },
  {
   "cell_type": "code",
   "execution_count": 13,
   "metadata": {},
   "outputs": [],
   "source": [
    "def add_list(liost): \n",
    "    df_sorted_keep_2 =[]\n",
    "    \n",
    "    df_sorted_keep_2.append(liost[0])\n",
    "    \n",
    "    for i in liost:\n",
    "        if i == \"col2.Name\":\n",
    "            df_sorted_keep_2.append(i)\n",
    "    return df_sorted_keep_2 "
   ]
  },
  {
   "cell_type": "code",
   "execution_count": 14,
   "metadata": {},
   "outputs": [],
   "source": [
    "df_sorted_keep_2first = add_list(all_cols_sorted)"
   ]
  },
  {
   "cell_type": "code",
   "execution_count": 15,
   "metadata": {},
   "outputs": [],
   "source": [
    "# faire fonction pour garder seulement les colonnes dans df_sorted_keep_2first et virer toutes les autres\n",
    "cols_to_drop = [i for i in all_cols_sorted if i not in df_sorted_keep_2first]"
   ]
  },
  {
   "cell_type": "code",
   "execution_count": 16,
   "metadata": {},
   "outputs": [],
   "source": [
    "df5 =df_flat.drop(cols_to_drop,\n",
    "                    axis=1\n",
    "                    )"
   ]
  },
  {
   "cell_type": "code",
   "execution_count": 17,
   "metadata": {},
   "outputs": [],
   "source": [
    "def return_IsDelivering_RS(list1):\n",
    "    a = []\n",
    "    b = 0\n",
    "    for i in list1:\n",
    "        \n",
    "        if i['IsOpenNowForDelivery'] == True:\n",
    "            b+=1\n",
    "            a.append(f\"{i['Name']}\")\n",
    "            #b+=1\n",
    "    print(b)\n",
    "    return a"
   ]
  },
  {
   "cell_type": "code",
   "execution_count": 18,
   "metadata": {},
   "outputs": [
    {
     "name": "stdout",
     "output_type": "stream",
     "text": [
      "33\n"
     ]
    }
   ],
   "source": [
    "s = return_IsDelivering_RS(restaurant_key)"
   ]
  },
  {
   "cell_type": "code",
   "execution_count": 19,
   "metadata": {},
   "outputs": [],
   "source": [
    "dfs = pd.DataFrame(s) # transform resto_name to df"
   ]
  },
  {
   "cell_type": "code",
   "execution_count": 20,
   "metadata": {},
   "outputs": [],
   "source": [
    "# Rating Stars\n",
    "\n",
    "def return_RS(list1):\n",
    "    a = []\n",
    "    b = 0\n",
    "    for i in list1:\n",
    "        \n",
    "        if i['IsOpenNowForDelivery'] == True:\n",
    "            b+=1\n",
    "            a.append(f\"{i['RatingStars']}\")\n",
    "            #b+=1\n",
    "    print(b)\n",
    "    return a"
   ]
  },
  {
   "cell_type": "code",
   "execution_count": 21,
   "metadata": {},
   "outputs": [
    {
     "name": "stdout",
     "output_type": "stream",
     "text": [
      "33\n"
     ]
    }
   ],
   "source": [
    "rating = return_RS(restaurant_key)"
   ]
  },
  {
   "cell_type": "code",
   "execution_count": 22,
   "metadata": {},
   "outputs": [],
   "source": [
    "df_rating = pd.DataFrame(rating) # transform rating stars into df"
   ]
  },
  {
   "cell_type": "code",
   "execution_count": 23,
   "metadata": {},
   "outputs": [],
   "source": [
    "dfs = dfs.rename(columns = {0:'Restaurant name'})\n",
    "df_rating = df_rating.rename(columns = {0:'Stars av.'})\n",
    "df5 = df5.rename(columns = {\"col1.Name\":'Spéciality 1', \"col2.Name\":'Spéciality 2 (or Country)'})"
   ]
  },
  {
   "cell_type": "code",
   "execution_count": 24,
   "metadata": {},
   "outputs": [],
   "source": [
    "frames = [dfs, df_rating, df5]\n",
    "result = pd.concat(frames, axis=1)"
   ]
  },
  {
   "cell_type": "code",
   "execution_count": 25,
   "metadata": {},
   "outputs": [
    {
     "name": "stdout",
     "output_type": "stream",
     "text": [
      "Hi! We have currently 33 restaurants/groceries opened.\n",
      "They can't wait to deliver your order at your home or office!!!\n"
     ]
    },
    {
     "data": {
      "text/html": [
       "<div>\n",
       "<style scoped>\n",
       "    .dataframe tbody tr th:only-of-type {\n",
       "        vertical-align: middle;\n",
       "    }\n",
       "\n",
       "    .dataframe tbody tr th {\n",
       "        vertical-align: top;\n",
       "    }\n",
       "\n",
       "    .dataframe thead th {\n",
       "        text-align: right;\n",
       "    }\n",
       "</style>\n",
       "<table border=\"1\" class=\"dataframe\">\n",
       "  <thead>\n",
       "    <tr style=\"text-align: right;\">\n",
       "      <th></th>\n",
       "      <th>Restaurant name</th>\n",
       "      <th>Stars av.</th>\n",
       "      <th>Spéciality 1</th>\n",
       "      <th>Spéciality 2 (or Country)</th>\n",
       "    </tr>\n",
       "  </thead>\n",
       "  <tbody>\n",
       "    <tr>\n",
       "      <th>0</th>\n",
       "      <td>Popeye's Pizzeria</td>\n",
       "      <td>4.68</td>\n",
       "      <td>Pizza</td>\n",
       "      <td>Kebab</td>\n",
       "    </tr>\n",
       "    <tr>\n",
       "      <th>1</th>\n",
       "      <td>Big Bite</td>\n",
       "      <td>4.32</td>\n",
       "      <td>Curry</td>\n",
       "      <td>Pizza</td>\n",
       "    </tr>\n",
       "    <tr>\n",
       "      <th>2</th>\n",
       "      <td>Palatable Pizza</td>\n",
       "      <td>5.64</td>\n",
       "      <td>Pizza</td>\n",
       "      <td>Burgers</td>\n",
       "    </tr>\n",
       "    <tr>\n",
       "      <th>3</th>\n",
       "      <td>McDonald's® - Oldham Broadway</td>\n",
       "      <td>3.48</td>\n",
       "      <td>Burgers</td>\n",
       "      <td>Chicken</td>\n",
       "    </tr>\n",
       "    <tr>\n",
       "      <th>4</th>\n",
       "      <td>Caspian Pizza</td>\n",
       "      <td>5.52</td>\n",
       "      <td>Pizza</td>\n",
       "      <td>Kebab</td>\n",
       "    </tr>\n",
       "    <tr>\n",
       "      <th>5</th>\n",
       "      <td>The Ben Chippy</td>\n",
       "      <td>4.8</td>\n",
       "      <td>Fish &amp; Chips</td>\n",
       "      <td>Kebab</td>\n",
       "    </tr>\n",
       "    <tr>\n",
       "      <th>6</th>\n",
       "      <td>Zam Zams</td>\n",
       "      <td>5.52</td>\n",
       "      <td>Indian</td>\n",
       "      <td>Pizza</td>\n",
       "    </tr>\n",
       "    <tr>\n",
       "      <th>7</th>\n",
       "      <td>Londis - Greengate</td>\n",
       "      <td>4.32</td>\n",
       "      <td>Groceries</td>\n",
       "      <td>Alcohol</td>\n",
       "    </tr>\n",
       "    <tr>\n",
       "      <th>8</th>\n",
       "      <td>Chicken Cottage - Middleton</td>\n",
       "      <td>3.96</td>\n",
       "      <td>Chicken</td>\n",
       "      <td>Peri Peri</td>\n",
       "    </tr>\n",
       "    <tr>\n",
       "      <th>9</th>\n",
       "      <td>The Dark Kitchen</td>\n",
       "      <td>4.32</td>\n",
       "      <td>Kebab</td>\n",
       "      <td>Indian</td>\n",
       "    </tr>\n",
       "    <tr>\n",
       "      <th>10</th>\n",
       "      <td>Lali's Pizza</td>\n",
       "      <td>5.52</td>\n",
       "      <td>Pizza</td>\n",
       "      <td>Kebab</td>\n",
       "    </tr>\n",
       "    <tr>\n",
       "      <th>11</th>\n",
       "      <td>Royton Pizza</td>\n",
       "      <td>5.28</td>\n",
       "      <td>Italian</td>\n",
       "      <td>Pizza</td>\n",
       "    </tr>\n",
       "    <tr>\n",
       "      <th>12</th>\n",
       "      <td>Papa Johns - Manchester - Prestwich</td>\n",
       "      <td>3.0</td>\n",
       "      <td>Pizza</td>\n",
       "      <td>American</td>\n",
       "    </tr>\n",
       "    <tr>\n",
       "      <th>13</th>\n",
       "      <td>Roma &amp; Shakes</td>\n",
       "      <td>4.68</td>\n",
       "      <td>Pizza</td>\n",
       "      <td>Desserts</td>\n",
       "    </tr>\n",
       "    <tr>\n",
       "      <th>14</th>\n",
       "      <td>Bar on Wheels</td>\n",
       "      <td>5.28</td>\n",
       "      <td>Groceries</td>\n",
       "      <td>Alcohol</td>\n",
       "    </tr>\n",
       "    <tr>\n",
       "      <th>15</th>\n",
       "      <td>Cake Away Desserts &amp; Milkshakes</td>\n",
       "      <td>1.8</td>\n",
       "      <td>Cakes</td>\n",
       "      <td>Desserts</td>\n",
       "    </tr>\n",
       "    <tr>\n",
       "      <th>16</th>\n",
       "      <td>DA Shop@ COSTCUTTER - WORCESTER ROAD</td>\n",
       "      <td>3.6</td>\n",
       "      <td>Groceries</td>\n",
       "      <td>Alcohol</td>\n",
       "    </tr>\n",
       "    <tr>\n",
       "      <th>17</th>\n",
       "      <td>Palermo Pizza</td>\n",
       "      <td>4.2</td>\n",
       "      <td>Italian</td>\n",
       "      <td>Pizza</td>\n",
       "    </tr>\n",
       "    <tr>\n",
       "      <th>18</th>\n",
       "      <td>Cakeaway Burgers, Desserts and Shakes</td>\n",
       "      <td>1.56</td>\n",
       "      <td>Burgers</td>\n",
       "      <td>Desserts</td>\n",
       "    </tr>\n",
       "    <tr>\n",
       "      <th>19</th>\n",
       "      <td>Rancher Food Box</td>\n",
       "      <td>3.6</td>\n",
       "      <td>Chicken</td>\n",
       "      <td>Burgers</td>\n",
       "    </tr>\n",
       "    <tr>\n",
       "      <th>20</th>\n",
       "      <td>TDK Burgers &amp; Kebabs</td>\n",
       "      <td>3.96</td>\n",
       "      <td>Burgers</td>\n",
       "      <td>Kebab</td>\n",
       "    </tr>\n",
       "    <tr>\n",
       "      <th>21</th>\n",
       "      <td>Savour-It</td>\n",
       "      <td>4.08</td>\n",
       "      <td>Burgers</td>\n",
       "      <td>Indian</td>\n",
       "    </tr>\n",
       "    <tr>\n",
       "      <th>22</th>\n",
       "      <td>Palatable Cake &amp; Shake</td>\n",
       "      <td>5.76</td>\n",
       "      <td>Milkshakes</td>\n",
       "      <td>Ice Cream</td>\n",
       "    </tr>\n",
       "    <tr>\n",
       "      <th>23</th>\n",
       "      <td>Liquor Land House</td>\n",
       "      <td>5.64</td>\n",
       "      <td>Groceries</td>\n",
       "      <td>Alcohol</td>\n",
       "    </tr>\n",
       "    <tr>\n",
       "      <th>24</th>\n",
       "      <td>SIP UP @ Ardwick Manchester</td>\n",
       "      <td>2.52</td>\n",
       "      <td>Groceries</td>\n",
       "      <td>Alcohol</td>\n",
       "    </tr>\n",
       "    <tr>\n",
       "      <th>25</th>\n",
       "      <td>ARDWICK DRINKS AND SNACKS DELIVERY</td>\n",
       "      <td>4.32</td>\n",
       "      <td>All Night Alcohol</td>\n",
       "      <td>Alcohol</td>\n",
       "    </tr>\n",
       "    <tr>\n",
       "      <th>26</th>\n",
       "      <td>Warrington Drinks &amp; Snacks Delivery</td>\n",
       "      <td>2.88</td>\n",
       "      <td>Groceries</td>\n",
       "      <td>Alcohol</td>\n",
       "    </tr>\n",
       "    <tr>\n",
       "      <th>27</th>\n",
       "      <td>Londis - Crumpsall</td>\n",
       "      <td>3.96</td>\n",
       "      <td>Groceries</td>\n",
       "      <td>Alcohol</td>\n",
       "    </tr>\n",
       "    <tr>\n",
       "      <th>28</th>\n",
       "      <td>SIP UP - Worsley Salford</td>\n",
       "      <td>1.92</td>\n",
       "      <td>Groceries</td>\n",
       "      <td>Alcohol</td>\n",
       "    </tr>\n",
       "    <tr>\n",
       "      <th>29</th>\n",
       "      <td>SIP UP - Trafford Park Manchester</td>\n",
       "      <td>2.64</td>\n",
       "      <td>Groceries</td>\n",
       "      <td>Alcohol</td>\n",
       "    </tr>\n",
       "    <tr>\n",
       "      <th>30</th>\n",
       "      <td>MANCHESTER DRINKS AND SNACKS DELIVERY</td>\n",
       "      <td>3.84</td>\n",
       "      <td>All Night Alcohol</td>\n",
       "      <td>Alcohol</td>\n",
       "    </tr>\n",
       "    <tr>\n",
       "      <th>31</th>\n",
       "      <td>TRAFFORD ALCOHOL DELIVERY</td>\n",
       "      <td>2.64</td>\n",
       "      <td>All Night Alcohol</td>\n",
       "      <td>Groceries</td>\n",
       "    </tr>\n",
       "    <tr>\n",
       "      <th>32</th>\n",
       "      <td>WARRINGTON ALCOHOL ,VAPES &amp; SNACKS DELIVERY</td>\n",
       "      <td>4.8</td>\n",
       "      <td>Alcohol</td>\n",
       "      <td>NaN</td>\n",
       "    </tr>\n",
       "  </tbody>\n",
       "</table>\n",
       "</div>"
      ],
      "text/plain": [
       "                                Restaurant name Stars av.       Spéciality 1  \\\n",
       "0                             Popeye's Pizzeria      4.68              Pizza   \n",
       "1                                      Big Bite      4.32              Curry   \n",
       "2                               Palatable Pizza      5.64              Pizza   \n",
       "3                 McDonald's® - Oldham Broadway      3.48            Burgers   \n",
       "4                                 Caspian Pizza      5.52              Pizza   \n",
       "5                                The Ben Chippy       4.8       Fish & Chips   \n",
       "6                                      Zam Zams      5.52             Indian   \n",
       "7                            Londis - Greengate      4.32          Groceries   \n",
       "8                   Chicken Cottage - Middleton      3.96            Chicken   \n",
       "9                              The Dark Kitchen      4.32              Kebab   \n",
       "10                                 Lali's Pizza      5.52              Pizza   \n",
       "11                                 Royton Pizza      5.28            Italian   \n",
       "12          Papa Johns - Manchester - Prestwich       3.0              Pizza   \n",
       "13                                Roma & Shakes      4.68              Pizza   \n",
       "14                                Bar on Wheels      5.28          Groceries   \n",
       "15              Cake Away Desserts & Milkshakes       1.8              Cakes   \n",
       "16         DA Shop@ COSTCUTTER - WORCESTER ROAD       3.6          Groceries   \n",
       "17                                Palermo Pizza       4.2            Italian   \n",
       "18        Cakeaway Burgers, Desserts and Shakes      1.56            Burgers   \n",
       "19                             Rancher Food Box       3.6            Chicken   \n",
       "20                         TDK Burgers & Kebabs      3.96            Burgers   \n",
       "21                                    Savour-It      4.08            Burgers   \n",
       "22                       Palatable Cake & Shake      5.76         Milkshakes   \n",
       "23                            Liquor Land House      5.64          Groceries   \n",
       "24                  SIP UP @ Ardwick Manchester      2.52          Groceries   \n",
       "25           ARDWICK DRINKS AND SNACKS DELIVERY      4.32  All Night Alcohol   \n",
       "26          Warrington Drinks & Snacks Delivery      2.88          Groceries   \n",
       "27                           Londis - Crumpsall      3.96          Groceries   \n",
       "28                     SIP UP - Worsley Salford      1.92          Groceries   \n",
       "29            SIP UP - Trafford Park Manchester      2.64          Groceries   \n",
       "30        MANCHESTER DRINKS AND SNACKS DELIVERY      3.84  All Night Alcohol   \n",
       "31                    TRAFFORD ALCOHOL DELIVERY      2.64  All Night Alcohol   \n",
       "32  WARRINGTON ALCOHOL ,VAPES & SNACKS DELIVERY       4.8            Alcohol   \n",
       "\n",
       "   Spéciality 2 (or Country)  \n",
       "0                      Kebab  \n",
       "1                      Pizza  \n",
       "2                    Burgers  \n",
       "3                    Chicken  \n",
       "4                      Kebab  \n",
       "5                      Kebab  \n",
       "6                      Pizza  \n",
       "7                    Alcohol  \n",
       "8                  Peri Peri  \n",
       "9                     Indian  \n",
       "10                     Kebab  \n",
       "11                     Pizza  \n",
       "12                  American  \n",
       "13                  Desserts  \n",
       "14                   Alcohol  \n",
       "15                  Desserts  \n",
       "16                   Alcohol  \n",
       "17                     Pizza  \n",
       "18                  Desserts  \n",
       "19                   Burgers  \n",
       "20                     Kebab  \n",
       "21                    Indian  \n",
       "22                 Ice Cream  \n",
       "23                   Alcohol  \n",
       "24                   Alcohol  \n",
       "25                   Alcohol  \n",
       "26                   Alcohol  \n",
       "27                   Alcohol  \n",
       "28                   Alcohol  \n",
       "29                   Alcohol  \n",
       "30                   Alcohol  \n",
       "31                 Groceries  \n",
       "32                       NaN  "
      ]
     },
     "execution_count": 25,
     "metadata": {},
     "output_type": "execute_result"
    }
   ],
   "source": [
    "pd.set_option('display.max_rows', 5000)\n",
    "print(f\"Hi! We have currently {len(dfs.index)} restaurants/groceries opened.\")\n",
    "print(\"They can't wait to deliver your order at your home or office!!!\")\n",
    "result\n"
   ]
  }
 ],
 "metadata": {
  "kernelspec": {
   "display_name": "base",
   "language": "python",
   "name": "python3"
  },
  "language_info": {
   "codemirror_mode": {
    "name": "ipython",
    "version": 3
   },
   "file_extension": ".py",
   "mimetype": "text/x-python",
   "name": "python",
   "nbconvert_exporter": "python",
   "pygments_lexer": "ipython3",
   "version": "3.9.12"
  }
 },
 "nbformat": 4,
 "nbformat_minor": 2
}
