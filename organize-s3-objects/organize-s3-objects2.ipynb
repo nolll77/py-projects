{
 "cells": [
  {
   "cell_type": "code",
   "execution_count": null,
   "metadata": {},
   "outputs": [],
   "source": [
    "# code with detailed comments"
   ]
  },
  {
   "cell_type": "code",
   "execution_count": 1,
   "metadata": {},
   "outputs": [],
   "source": [
    "import boto3\n",
    "from datetime import datetime"
   ]
  },
  {
   "cell_type": "code",
   "execution_count": 4,
   "metadata": {},
   "outputs": [],
   "source": [
    "today = datetime.today()"
   ]
  },
  {
   "cell_type": "code",
   "execution_count": 5,
   "metadata": {},
   "outputs": [
    {
     "data": {
      "text/plain": [
       "datetime.datetime(2024, 2, 5, 10, 45, 57, 436357)"
      ]
     },
     "execution_count": 5,
     "metadata": {},
     "output_type": "execute_result"
    }
   ],
   "source": [
    "today"
   ]
  },
  {
   "cell_type": "code",
   "execution_count": 6,
   "metadata": {},
   "outputs": [],
   "source": [
    "todays_date = today.strftime(\"%Y%m%d\")"
   ]
  },
  {
   "cell_type": "code",
   "execution_count": 7,
   "metadata": {},
   "outputs": [
    {
     "data": {
      "text/plain": [
       "'20240205'"
      ]
     },
     "execution_count": 7,
     "metadata": {},
     "output_type": "execute_result"
    }
   ],
   "source": [
    "todays_date"
   ]
  },
  {
   "cell_type": "code",
   "execution_count": 8,
   "metadata": {},
   "outputs": [],
   "source": [
    "# connect to s3 bucket with boto3\n",
    "s3_client = boto3.client('s3')"
   ]
  },
  {
   "cell_type": "code",
   "execution_count": 9,
   "metadata": {},
   "outputs": [],
   "source": [
    "# set a variable to our bucket's name in aws\n",
    "bucket_name = \"nol-organize-s3-objects\""
   ]
  },
  {
   "cell_type": "code",
   "execution_count": null,
   "metadata": {},
   "outputs": [],
   "source": [
    "# list all objects in our s3 bucket (using version 2)\n",
    "list_objects_response = s3_client.list_objects_v2(\n",
    "    Bucket=bucket_name\n",
    ")"
   ]
  },
  {
   "cell_type": "code",
   "execution_count": null,
   "metadata": {},
   "outputs": [],
   "source": [
    "list_objects_response"
   ]
  },
  {
   "cell_type": "code",
   "execution_count": null,
   "metadata": {},
   "outputs": [],
   "source": [
    "get_contents = list_objects_response.get(\"Contents\")"
   ]
  },
  {
   "cell_type": "code",
   "execution_count": null,
   "metadata": {},
   "outputs": [],
   "source": [
    "get_contents # it's a list of items"
   ]
  },
  {
   "cell_type": "code",
   "execution_count": null,
   "metadata": {},
   "outputs": [],
   "source": [
    "# get all key's names from the list and store them in a variable\n",
    "get_all_s3_object_and_folder_names = []\n",
    "\n",
    "# loop through the list and collect the values of keys\n",
    "\n",
    "for i in get_contents:\n",
    "    s3_object_name = i.get(\"Key\")\n",
    "    \n",
    "    get_all_s3_object_and_folder_names.append(s3_object_name)"
   ]
  },
  {
   "cell_type": "code",
   "execution_count": null,
   "metadata": {},
   "outputs": [],
   "source": [
    "get_all_s3_object_and_folder_names"
   ]
  },
  {
   "cell_type": "code",
   "execution_count": null,
   "metadata": {},
   "outputs": [],
   "source": [
    "# Create a folder in the s3 bucket \n",
    "# Folder must be created according to today's date\n",
    "# Hence every day we shall have a new folder according to the actual day\n",
    "# In aws, the name of the folder finishes with a /\n",
    "\n",
    "directory_name = todays_date + \"/\""
   ]
  },
  {
   "cell_type": "code",
   "execution_count": null,
   "metadata": {},
   "outputs": [],
   "source": [
    "directory_name"
   ]
  },
  {
   "cell_type": "code",
   "execution_count": null,
   "metadata": {},
   "outputs": [],
   "source": [
    "# Check whether today's folder exists in s3 bucket, using an IF statement\n",
    "# If not, create a folder for today's date\n",
    "# the folders' names are store in a list\n",
    "# So check if the items match the names in the list -> get_all_s3_object_and_folder_names\n",
    "\n",
    "if directory_name not in get_all_s3_object_and_folder_names:\n",
    "    s3_client.put_object(\n",
    "        Bucket=bucket_name,\n",
    "        Key=(directory_name)\n",
    "    )\n",
    "\n"
   ]
  },
  {
   "cell_type": "code",
   "execution_count": null,
   "metadata": {},
   "outputs": [],
   "source": [
    "# Add any objects that we've uploaded today into the \"Today's floder\"\n",
    "# Two conditions: if the \"last modified's date\" of the object matches the \"Today's floder\" name\n",
    "# If the objects we wanna move into the \"Today's floder\" don't have a slash at the end of their names,\n",
    "# Because it's only the \"Today's floder\" which has a /, and we don't wanna move those folder into another folder\n",
    "# the / is a knid of differenciator between the \"Today's floder\" and the files we wanna move\n",
    "\n",
    "# In aws there's no integrated \"function\" for moving\n",
    "# So create a function ton copy the file\n",
    "# And another one to delete the file that has been copied\n",
    "\n",
    "for i in get_contents:\n",
    "    object_creation_date = i.get(\"LastModified\").strftime(\"%Y%m%d\") + \"/\"\n",
    "    object_name = i.get(\"Key\")\n",
    "    \n",
    "    if object_creation_date == directory_name and \"/\" not in object_name:\n",
    "        s3_client.copy_object(\n",
    "            Bucket=bucket_name,\n",
    "            CopySource=bucket_name+\"/\"+object_name, # path to the object in s3\n",
    "            Key=directory_name+object_name # in S3 when copying we can give a new name, in our example we keet the actual object name we're copying\n",
    "        )\n",
    "        \n",
    "        s3_client.delete_object(\n",
    "            Bucket=bucket_name,\n",
    "            Key=object_name\n",
    "        )"
   ]
  },
  {
   "cell_type": "code",
   "execution_count": null,
   "metadata": {},
   "outputs": [],
   "source": []
  },
  {
   "cell_type": "code",
   "execution_count": null,
   "metadata": {},
   "outputs": [],
   "source": []
  },
  {
   "cell_type": "code",
   "execution_count": null,
   "metadata": {},
   "outputs": [],
   "source": []
  },
  {
   "cell_type": "code",
   "execution_count": null,
   "metadata": {},
   "outputs": [],
   "source": []
  }
 ],
 "metadata": {
  "kernelspec": {
   "display_name": "base",
   "language": "python",
   "name": "python3"
  },
  "language_info": {
   "codemirror_mode": {
    "name": "ipython",
    "version": 3
   },
   "file_extension": ".py",
   "mimetype": "text/x-python",
   "name": "python",
   "nbconvert_exporter": "python",
   "pygments_lexer": "ipython3",
   "version": "3.9.12"
  }
 },
 "nbformat": 4,
 "nbformat_minor": 2
}
