{
 "cells": [
  {
   "cell_type": "code",
   "execution_count": 21,
   "metadata": {},
   "outputs": [],
   "source": [
    "import boto3\n",
    "from datetime import datetime"
   ]
  },
  {
   "cell_type": "code",
   "execution_count": 22,
   "metadata": {},
   "outputs": [],
   "source": [
    "today = datetime.today()"
   ]
  },
  {
   "cell_type": "code",
   "execution_count": 23,
   "metadata": {},
   "outputs": [
    {
     "data": {
      "text/plain": [
       "datetime.datetime(2024, 1, 24, 12, 54, 53, 238503)"
      ]
     },
     "execution_count": 23,
     "metadata": {},
     "output_type": "execute_result"
    }
   ],
   "source": [
    "today"
   ]
  },
  {
   "cell_type": "code",
   "execution_count": 24,
   "metadata": {},
   "outputs": [],
   "source": [
    "todays_date = today.strftime(\"%Y%m%d\")"
   ]
  },
  {
   "cell_type": "code",
   "execution_count": 25,
   "metadata": {},
   "outputs": [
    {
     "data": {
      "text/plain": [
       "'20240124'"
      ]
     },
     "execution_count": 25,
     "metadata": {},
     "output_type": "execute_result"
    }
   ],
   "source": [
    "todays_date"
   ]
  },
  {
   "cell_type": "code",
   "execution_count": 26,
   "metadata": {},
   "outputs": [],
   "source": [
    "s3_client = boto3.client('s3')"
   ]
  },
  {
   "cell_type": "code",
   "execution_count": 27,
   "metadata": {},
   "outputs": [],
   "source": [
    "bucket_name = \"nol-organize-s3-objects\""
   ]
  },
  {
   "cell_type": "code",
   "execution_count": 28,
   "metadata": {},
   "outputs": [],
   "source": [
    "list_objects_response = s3_client.list_objects_v2(Bucket=bucket_name)"
   ]
  },
  {
   "cell_type": "code",
   "execution_count": 29,
   "metadata": {},
   "outputs": [
    {
     "data": {
      "text/plain": [
       "{'ResponseMetadata': {'RequestId': 'ZP1BJWQ16WV7XDVH',\n",
       "  'HostId': 'VvajptVwdNtVfb1kybIK4ngn+CjwtyxJZrTBFsoTPDRv+gChKa46ZstP76ThQfSjzuN2i0ivbiM=',\n",
       "  'HTTPStatusCode': 200,\n",
       "  'HTTPHeaders': {'x-amz-id-2': 'VvajptVwdNtVfb1kybIK4ngn+CjwtyxJZrTBFsoTPDRv+gChKa46ZstP76ThQfSjzuN2i0ivbiM=',\n",
       "   'x-amz-request-id': 'ZP1BJWQ16WV7XDVH',\n",
       "   'date': 'Wed, 24 Jan 2024 11:54:59 GMT',\n",
       "   'x-amz-bucket-region': 'eu-west-3',\n",
       "   'content-type': 'application/xml',\n",
       "   'transfer-encoding': 'chunked',\n",
       "   'server': 'AmazonS3'},\n",
       "  'RetryAttempts': 0},\n",
       " 'IsTruncated': False,\n",
       " 'Contents': [{'Key': '20240124/',\n",
       "   'LastModified': datetime.datetime(2024, 1, 24, 11, 36, 3, tzinfo=tzutc()),\n",
       "   'ETag': '\"d41d8cd98f00b204e9800998ecf8427e\"',\n",
       "   'Size': 0,\n",
       "   'StorageClass': 'STANDARD'},\n",
       "  {'Key': 'Screen Shot 2024-01-08 at 3.01.44 PM.png',\n",
       "   'LastModified': datetime.datetime(2024, 1, 24, 11, 40, 48, tzinfo=tzutc()),\n",
       "   'ETag': '\"3c78fbc28515f972e00afee48e9f6898\"',\n",
       "   'Size': 17677,\n",
       "   'StorageClass': 'STANDARD'},\n",
       "  {'Key': 'Screen Shot 2024-01-10 at 2.22.15 PM.png',\n",
       "   'LastModified': datetime.datetime(2024, 1, 24, 11, 40, 51, tzinfo=tzutc()),\n",
       "   'ETag': '\"00f3cfc7389daa1fb02a8cebd2c8ab38\"',\n",
       "   'Size': 8722416,\n",
       "   'StorageClass': 'STANDARD'},\n",
       "  {'Key': 'Screen Shot 2024-01-10 at 2.48.47 PM.png',\n",
       "   'LastModified': datetime.datetime(2024, 1, 24, 11, 40, 54, tzinfo=tzutc()),\n",
       "   'ETag': '\"ebab8c1dae8e5cd39b83be1b695719db\"',\n",
       "   'Size': 8862153,\n",
       "   'StorageClass': 'STANDARD'},\n",
       "  {'Key': 'langchain_stack.png',\n",
       "   'LastModified': datetime.datetime(2024, 1, 24, 10, 5, 52, tzinfo=tzutc()),\n",
       "   'ETag': '\"1dfa58aff70001534dd95a0b33bf97ba\"',\n",
       "   'Size': 839542,\n",
       "   'StorageClass': 'STANDARD'}],\n",
       " 'Name': 'nol-organize-s3-objects',\n",
       " 'Prefix': '',\n",
       " 'MaxKeys': 1000,\n",
       " 'EncodingType': 'url',\n",
       " 'KeyCount': 5}"
      ]
     },
     "execution_count": 29,
     "metadata": {},
     "output_type": "execute_result"
    }
   ],
   "source": [
    "list_objects_response"
   ]
  },
  {
   "cell_type": "code",
   "execution_count": 30,
   "metadata": {},
   "outputs": [],
   "source": [
    "get_contents = list_objects_response.get(\"Contents\")"
   ]
  },
  {
   "cell_type": "code",
   "execution_count": 31,
   "metadata": {},
   "outputs": [
    {
     "data": {
      "text/plain": [
       "[{'Key': '20240124/',\n",
       "  'LastModified': datetime.datetime(2024, 1, 24, 11, 36, 3, tzinfo=tzutc()),\n",
       "  'ETag': '\"d41d8cd98f00b204e9800998ecf8427e\"',\n",
       "  'Size': 0,\n",
       "  'StorageClass': 'STANDARD'},\n",
       " {'Key': 'Screen Shot 2024-01-08 at 3.01.44 PM.png',\n",
       "  'LastModified': datetime.datetime(2024, 1, 24, 11, 40, 48, tzinfo=tzutc()),\n",
       "  'ETag': '\"3c78fbc28515f972e00afee48e9f6898\"',\n",
       "  'Size': 17677,\n",
       "  'StorageClass': 'STANDARD'},\n",
       " {'Key': 'Screen Shot 2024-01-10 at 2.22.15 PM.png',\n",
       "  'LastModified': datetime.datetime(2024, 1, 24, 11, 40, 51, tzinfo=tzutc()),\n",
       "  'ETag': '\"00f3cfc7389daa1fb02a8cebd2c8ab38\"',\n",
       "  'Size': 8722416,\n",
       "  'StorageClass': 'STANDARD'},\n",
       " {'Key': 'Screen Shot 2024-01-10 at 2.48.47 PM.png',\n",
       "  'LastModified': datetime.datetime(2024, 1, 24, 11, 40, 54, tzinfo=tzutc()),\n",
       "  'ETag': '\"ebab8c1dae8e5cd39b83be1b695719db\"',\n",
       "  'Size': 8862153,\n",
       "  'StorageClass': 'STANDARD'},\n",
       " {'Key': 'langchain_stack.png',\n",
       "  'LastModified': datetime.datetime(2024, 1, 24, 10, 5, 52, tzinfo=tzutc()),\n",
       "  'ETag': '\"1dfa58aff70001534dd95a0b33bf97ba\"',\n",
       "  'Size': 839542,\n",
       "  'StorageClass': 'STANDARD'}]"
      ]
     },
     "execution_count": 31,
     "metadata": {},
     "output_type": "execute_result"
    }
   ],
   "source": [
    "get_contents"
   ]
  },
  {
   "cell_type": "code",
   "execution_count": 32,
   "metadata": {},
   "outputs": [],
   "source": [
    "get_all_s3_object_and_folder_names = []\n",
    "\n",
    "for i in get_contents:\n",
    "    s3_object_name = i.get(\"Key\")\n",
    "    \n",
    "    get_all_s3_object_and_folder_names.append(s3_object_name)"
   ]
  },
  {
   "cell_type": "code",
   "execution_count": 33,
   "metadata": {},
   "outputs": [
    {
     "data": {
      "text/plain": [
       "['20240124/',\n",
       " 'Screen Shot 2024-01-08 at 3.01.44 PM.png',\n",
       " 'Screen Shot 2024-01-10 at 2.22.15 PM.png',\n",
       " 'Screen Shot 2024-01-10 at 2.48.47 PM.png',\n",
       " 'langchain_stack.png']"
      ]
     },
     "execution_count": 33,
     "metadata": {},
     "output_type": "execute_result"
    }
   ],
   "source": [
    "get_all_s3_object_and_folder_names"
   ]
  },
  {
   "cell_type": "code",
   "execution_count": 34,
   "metadata": {},
   "outputs": [],
   "source": [
    "directory_name = todays_date + \"/\""
   ]
  },
  {
   "cell_type": "code",
   "execution_count": 35,
   "metadata": {},
   "outputs": [
    {
     "data": {
      "text/plain": [
       "'20240124/'"
      ]
     },
     "execution_count": 35,
     "metadata": {},
     "output_type": "execute_result"
    }
   ],
   "source": [
    "directory_name"
   ]
  },
  {
   "cell_type": "code",
   "execution_count": 36,
   "metadata": {},
   "outputs": [],
   "source": [
    "if directory_name not in get_all_s3_object_and_folder_names:\n",
    "    s3_client.put_object(Bucket=bucket_name, Key=directory_name)"
   ]
  },
  {
   "cell_type": "code",
   "execution_count": 39,
   "metadata": {},
   "outputs": [],
   "source": [
    "for i in get_contents:\n",
    "    object_creation_date = i.get(\"LastModified\").strftime(\"%Y%m%d\") + \"/\"\n",
    "    object_name = i.get(\"Key\")\n",
    "    \n",
    "    if object_creation_date == directory_name and \"/\" not in object_name:\n",
    "        s3_client.copy_object(Bucket=bucket_name, CopySource=bucket_name+\"/\"+object_name, Key=directory_name+object_name)\n",
    "        s3_client.delete_object(Bucket=bucket_name, Key=object_name)\n",
    "        "
   ]
  },
  {
   "cell_type": "code",
   "execution_count": null,
   "metadata": {},
   "outputs": [],
   "source": []
  }
 ],
 "metadata": {
  "kernelspec": {
   "display_name": "Python 3",
   "language": "python",
   "name": "python3"
  },
  "language_info": {
   "codemirror_mode": {
    "name": "ipython",
    "version": 3
   },
   "file_extension": ".py",
   "mimetype": "text/x-python",
   "name": "python",
   "nbconvert_exporter": "python",
   "pygments_lexer": "ipython3",
   "version": "3.10.4"
  }
 },
 "nbformat": 4,
 "nbformat_minor": 2
}
